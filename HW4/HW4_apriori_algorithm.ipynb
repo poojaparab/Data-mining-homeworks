{
 "cells": [
  {
   "cell_type": "code",
   "execution_count": 1,
   "id": "b102b597",
   "metadata": {},
   "outputs": [],
   "source": [
    "import pandas as pd\n",
    "import numpy as np"
   ]
  },
  {
   "cell_type": "code",
   "execution_count": 2,
   "id": "c0388cda",
   "metadata": {},
   "outputs": [
    {
     "name": "stdout",
     "output_type": "stream",
     "text": [
      "(9835, 33)\n"
     ]
    }
   ],
   "source": [
    "data = pd.read_csv('groceries.csv')\n",
    "print(data.shape)"
   ]
  },
  {
   "cell_type": "code",
   "execution_count": 3,
   "id": "14cd9221",
   "metadata": {},
   "outputs": [
    {
     "name": "stdout",
     "output_type": "stream",
     "text": [
      "length of unique itemsets: 169\n",
      "Unique itemset without support: ['citrus fruit', 'semi-finished bread', 'margarine', 'ready soups', 'tropical fruit', 'yogurt', 'coffee', 'whole milk', 'pip fruit', 'cream cheese', 'meat spreads', 'other vegetables', 'condensed milk', 'long life bakery product', 'butter', 'rice', 'abrasive cleaner', 'rolls/buns', 'UHT-milk', 'bottled beer', 'liquor (appetizer)', 'potted plants', 'cereals', 'white bread', 'bottled water', 'chocolate', 'curd', 'flour', 'dishes', 'beef', 'frankfurter', 'soda', 'chicken', 'sugar', 'fruit/vegetable juice', 'newspapers', 'packaged fruit/vegetables', 'specialty bar', 'butter milk', 'pastry', 'processed cheese', 'detergent', 'root vegetables', 'frozen dessert', 'sweet spreads', 'salty snack', 'waffles', 'candy', 'bathroom cleaner', 'canned beer', 'sausage', 'brown bread', 'shopping bags', 'beverages', 'hamburger meat', 'spices', 'hygiene articles', 'napkins', 'pork', 'berries', 'whipped/sour cream', 'artif. sweetener', 'grapes', 'dessert', 'zwieback', 'domestic eggs', 'spread cheese', 'misc. beverages', 'hard cheese', 'cat food', 'ham', 'turkey', 'baking powder', 'pickled vegetables', 'oil', 'chewing gum', 'chocolate marshmallow', 'ice cream', 'frozen vegetables', 'canned fish', 'seasonal products', 'curd cheese', 'red/blush wine', 'frozen potato products', 'specialty fat', 'specialty chocolate', 'candles', 'flower (seeds)', 'sparkling wine', 'salt', 'frozen meals', 'canned vegetables', 'onions', 'herbs', 'white wine', 'brandy', 'photo/film', 'sliced cheese', 'pasta', 'softener', 'cling film/bags', 'fish', 'male cosmetics', 'canned fruit', 'Instant food products', 'soft cheese', 'honey', 'dental care', 'popcorn', 'cake bar', 'snack products', 'flower soil/fertilizer', 'specialty cheese', 'finished products', 'cocoa drinks', 'dog food', 'prosecco', 'frozen fish', 'make up remover', 'cleaner', 'female sanitary products', 'dish cleaner', 'cookware', 'meat', 'tea', 'mustard', 'house keeping products', 'skin care', 'potato products', 'liquor', 'pet care', 'soups', 'rum', 'salad dressing', 'sauces', 'vinegar', 'soap', 'hair spray', 'instant coffee', 'roll products', 'mayonnaise', 'rubbing alcohol', 'syrup', 'liver loaf', 'baby cosmetics', 'organic products', 'nut snack', 'kitchen towels', 'frozen chicken', 'light bulbs', 'ketchup', 'jam', 'decalcifier', 'nuts/prunes', 'liqueur', 'organic sausage', 'cream', 'toilet cleaner', 'specialty vegetables', 'baby food', 'pudding powder', 'tidbits', 'whisky', 'frozen fruits', 'bags', 'cooking chocolate', 'sound storage medium', 'kitchen utensil', 'preservation products']\n",
      "minimum support 491\n"
     ]
    }
   ],
   "source": [
    "groceries_list = data.to_numpy().tolist()\n",
    "groceries = [list(filter(lambda x: x == x, i)) for i in groceries_list]\n",
    "starter=[]\n",
    "for i in groceries:\n",
    "    for j in range(1,len(i)):\n",
    "        if i[j] not in starter:\n",
    "            starter.append(i[j])\n",
    "print(\"length of unique itemsets:\",len(starter))\n",
    "print(\"Unique itemset without support:\",starter)\n",
    "support = int(0.05*len(groceries))\n",
    "print(\"minimum support\",support)"
   ]
  },
  {
   "cell_type": "code",
   "execution_count": 4,
   "id": "898411b3",
   "metadata": {},
   "outputs": [
    {
     "name": "stdout",
     "output_type": "stream",
     "text": [
      "Candidate itemset 1 with count :\n",
      "{'citrus fruit': 814, 'semi-finished bread': 174, 'margarine': 576, 'ready soups': 18, 'tropical fruit': 1032, 'yogurt': 1372, 'coffee': 571, 'whole milk': 2513, 'pip fruit': 744, 'cream cheese': 390, 'meat spreads': 42, 'other vegetables': 1903, 'condensed milk': 101, 'long life bakery product': 368, 'butter': 545, 'rice': 75, 'abrasive cleaner': 35, 'rolls/buns': 1809, 'UHT-milk': 329, 'bottled beer': 792, 'liquor (appetizer)': 78, 'potted plants': 170, 'cereals': 56, 'white bread': 414, 'bottled water': 1087, 'chocolate': 488, 'curd': 524, 'flour': 171, 'dishes': 173, 'beef': 516, 'frankfurter': 580, 'soda': 1715, 'chicken': 422, 'sugar': 333, 'fruit/vegetable juice': 711, 'newspapers': 785, 'packaged fruit/vegetables': 128, 'specialty bar': 269, 'butter milk': 275, 'pastry': 875, 'processed cheese': 163, 'detergent': 189, 'root vegetables': 1072, 'frozen dessert': 106, 'sweet spreads': 89, 'salty snack': 372, 'waffles': 378, 'candy': 294, 'bathroom cleaner': 27, 'canned beer': 764, 'sausage': 924, 'brown bread': 638, 'shopping bags': 969, 'beverages': 256, 'hamburger meat': 327, 'spices': 51, 'hygiene articles': 324, 'napkins': 515, 'pork': 567, 'berries': 327, 'whipped/sour cream': 705, 'artif. sweetener': 32, 'grapes': 220, 'dessert': 365, 'zwieback': 68, 'domestic eggs': 624, 'spread cheese': 110, 'misc. beverages': 279, 'hard cheese': 241, 'cat food': 229, 'ham': 256, 'turkey': 80, 'baking powder': 174, 'pickled vegetables': 176, 'oil': 276, 'chewing gum': 207, 'chocolate marshmallow': 89, 'ice cream': 246, 'frozen vegetables': 473, 'canned fish': 148, 'seasonal products': 140, 'curd cheese': 50, 'red/blush wine': 189, 'frozen potato products': 83, 'specialty fat': 36, 'specialty chocolate': 299, 'candles': 88, 'flower (seeds)': 102, 'sparkling wine': 55, 'salt': 106, 'frozen meals': 279, 'canned vegetables': 106, 'onions': 305, 'herbs': 160, 'white wine': 187, 'brandy': 41, 'photo/film': 91, 'sliced cheese': 241, 'pasta': 148, 'softener': 54, 'cling film/bags': 112, 'fish': 29, 'male cosmetics': 45, 'canned fruit': 32, 'Instant food products': 79, 'soft cheese': 168, 'honey': 15, 'dental care': 57, 'popcorn': 71, 'cake bar': 130, 'snack products': 30, 'flower soil/fertilizer': 19, 'specialty cheese': 84, 'finished products': 64, 'cocoa drinks': 22, 'dog food': 84, 'prosecco': 20, 'frozen fish': 115, 'make up remover': 8, 'cleaner': 50, 'female sanitary products': 60, 'dish cleaner': 103, 'cookware': 27, 'meat': 254, 'tea': 38, 'mustard': 118, 'house keeping products': 82, 'skin care': 35, 'potato products': 28, 'liquor': 109, 'pet care': 93, 'soups': 67, 'rum': 44, 'salad dressing': 8, 'sauces': 54, 'vinegar': 64, 'soap': 26, 'hair spray': 11, 'instant coffee': 73, 'roll products': 101, 'mayonnaise': 90, 'rubbing alcohol': 10, 'syrup': 32, 'liver loaf': 50, 'baby cosmetics': 6, 'organic products': 16, 'nut snack': 31, 'kitchen towels': 59, 'frozen chicken': 6, 'light bulbs': 41, 'ketchup': 42, 'jam': 53, 'decalcifier': 15, 'nuts/prunes': 33, 'liqueur': 9, 'organic sausage': 22, 'cream': 13, 'toilet cleaner': 7, 'specialty vegetables': 17, 'baby food': 1, 'pudding powder': 23, 'tidbits': 23, 'whisky': 8, 'frozen fruits': 12, 'bags': 4, 'cooking chocolate': 25, 'sound storage medium': 1, 'kitchen utensil': 4, 'preservation products': 2}\n",
      "our minimum support:491\n"
     ]
    }
   ],
   "source": [
    "item_support={}\n",
    "for i in range(0,len(starter)):\n",
    "    count =0\n",
    "    for j in range(0,len(groceries)):\n",
    "        if str(starter[i]) in groceries[j]:\n",
    "            count+=1\n",
    "        else:\n",
    "            j+=1\n",
    "    \n",
    "    item_support.update({starter[i]:count})\n",
    "print(\"Candidate itemset 1 with count :\")\n",
    "print(item_support)\n",
    "\n",
    "print(\"our minimum support:{}\".format(support))"
   ]
  },
  {
   "cell_type": "code",
   "execution_count": 5,
   "id": "98b5f94a",
   "metadata": {},
   "outputs": [
    {
     "name": "stdout",
     "output_type": "stream",
     "text": [
      "frequent itemset 1:\n",
      "after pruning: {'citrus fruit': 814, 'margarine': 576, 'tropical fruit': 1032, 'yogurt': 1372, 'coffee': 571, 'whole milk': 2513, 'pip fruit': 744, 'other vegetables': 1903, 'butter': 545, 'rolls/buns': 1809, 'bottled beer': 792, 'bottled water': 1087, 'curd': 524, 'beef': 516, 'frankfurter': 580, 'soda': 1715, 'fruit/vegetable juice': 711, 'newspapers': 785, 'pastry': 875, 'root vegetables': 1072, 'canned beer': 764, 'sausage': 924, 'brown bread': 638, 'shopping bags': 969, 'napkins': 515, 'pork': 567, 'whipped/sour cream': 705, 'domestic eggs': 624}\n",
      "length of frequent_items before pruning: 169\n",
      "length of frequent_items after pruning: 28\n"
     ]
    }
   ],
   "source": [
    "print(\"frequent itemset 1:\")\n",
    "frequent_itemset_1_list=[]\n",
    "frequent_itemset = {}\n",
    "for key in item_support:\n",
    "    if item_support[key] > support:\n",
    "        frequent_itemset[key] = item_support[key]\n",
    "        frequent_itemset_1_list.append(key)\n",
    "        \n",
    "print(\"after pruning:\",frequent_itemset)\n",
    "print(\"length of frequent_items before pruning:\",len(item_support))\n",
    "print(\"length of frequent_items after pruning:\",len(frequent_itemset))"
   ]
  },
  {
   "cell_type": "code",
   "execution_count": 6,
   "id": "ae4dacf4",
   "metadata": {},
   "outputs": [],
   "source": [
    "import itertools\n",
    "\n",
    "res = list(itertools.combinations(frequent_itemset, 2))\n",
    "res=set([ tuple(sorted(i)) for i in res])\n",
    "\n",
    "# res= [list(i) for i in res]\n",
    "# print(res)"
   ]
  },
  {
   "cell_type": "code",
   "execution_count": 7,
   "id": "5f8cdbf9",
   "metadata": {},
   "outputs": [
    {
     "name": "stdout",
     "output_type": "stream",
     "text": [
      "{('canned beer', 'other vegetables'): 89, ('beef', 'bottled beer'): 40, ('butter', 'newspapers'): 57, ('napkins', 'sausage'): 66, ('bottled beer', 'pastry'): 45, ('frankfurter', 'newspapers'): 49, ('newspapers', 'other vegetables'): 190, ('brown bread', 'curd'): 48, ('fruit/vegetable juice', 'whole milk'): 262, ('napkins', 'pastry'): 69, ('butter', 'margarine'): 66, ('bottled beer', 'soda'): 167, ('canned beer', 'rolls/buns'): 111, ('bottled beer', 'pork'): 51, ('napkins', 'soda'): 118, ('fruit/vegetable juice', 'whipped/sour cream'): 89, ('pip fruit', 'sausage'): 106, ('margarine', 'sausage'): 70, ('rolls/buns', 'whole milk'): 557, ('canned beer', 'root vegetables'): 40, ('butter', 'pip fruit'): 72, ('bottled beer', 'tropical fruit'): 81, ('frankfurter', 'pip fruit'): 71, ('margarine', 'pastry'): 67, ('canned beer', 'shopping bags'): 112, ('canned beer', 'whipped/sour cream'): 18, ('rolls/buns', 'whipped/sour cream'): 144, ('newspapers', 'whole milk'): 269, ('shopping bags', 'yogurt'): 150, ('pastry', 'tropical fruit'): 130, ('bottled beer', 'bottled water'): 155, ('pip fruit', 'soda'): 131, ('margarine', 'soda'): 100, ('margarine', 'pork'): 63, ('fruit/vegetable juice', 'napkins'): 68, ('pork', 'root vegetables'): 134, ('newspapers', 'shopping bags'): 68, ('newspapers', 'whipped/sour cream'): 71, ('bottled beer', 'domestic eggs'): 46, ('coffee', 'fruit/vegetable juice'): 59, ('pork', 'yogurt'): 94, ('bottled beer', 'other vegetables'): 159, ('canned beer', 'napkins'): 31, ('bottled water', 'tropical fruit'): 182, ('root vegetables', 'soda'): 183, ('napkins', 'other vegetables'): 142, ('bottled water', 'pip fruit'): 104, ('coffee', 'frankfurter'): 50, ('coffee', 'sausage'): 68, ('domestic eggs', 'whole milk'): 295, ('butter', 'canned beer'): 19, ('citrus fruit', 'newspapers'): 82, ('bottled beer', 'rolls/buns'): 134, ('coffee', 'pastry'): 68, ('brown bread', 'newspapers'): 75, ('sausage', 'yogurt'): 193, ('root vegetables', 'tropical fruit'): 207, ('pastry', 'rolls/buns'): 206, ('curd', 'pork'): 42, ('butter', 'citrus fruit'): 90, ('citrus fruit', 'margarine'): 78, ('coffee', 'soda'): 98, ('margarine', 'other vegetables'): 194, ('coffee', 'pork'): 35, ('other vegetables', 'pip fruit'): 257, ('bottled beer', 'root vegetables'): 95, ('brown bread', 'margarine'): 64, ('beef', 'pork'): 75, ('frankfurter', 'yogurt'): 110, ('napkins', 'whole milk'): 194, ('brown bread', 'sausage'): 105, ('pastry', 'root vegetables'): 108, ('bottled beer', 'shopping bags'): 55, ('bottled beer', 'whipped/sour cream'): 39, ('tropical fruit', 'yogurt'): 288, ('citrus fruit', 'pip fruit'): 136, ('curd', 'tropical fruit'): 101, ('pastry', 'yogurt'): 174, ('napkins', 'whipped/sour cream'): 71, ('beef', 'tropical fruit'): 75, ('bottled water', 'coffee'): 72, ('pip fruit', 'whole milk'): 296, ('margarine', 'whole milk'): 238, ('bottled beer', 'napkins'): 51, ('coffee', 'domestic eggs'): 49, ('fruit/vegetable juice', 'pork'): 48, ('bottled water', 'yogurt'): 226, ('curd', 'other vegetables'): 169, ('pip fruit', 'whipped/sour cream'): 91, ('margarine', 'whipped/sour cream'): 67, ('coffee', 'other vegetables'): 132, ('fruit/vegetable juice', 'tropical fruit'): 135, ('curd', 'rolls/buns'): 99, ('root vegetables', 'shopping bags'): 126, ('root vegetables', 'whipped/sour cream'): 168, ('brown bread', 'canned beer'): 47, ('domestic eggs', 'fruit/vegetable juice'): 79, ('margarine', 'napkins'): 44, ('beef', 'rolls/buns'): 134, ('bottled water', 'curd'): 60, ('canned beer', 'tropical fruit'): 30, ('rolls/buns', 'tropical fruit'): 242, ('curd', 'root vegetables'): 107, ('coffee', 'whole milk'): 184, ('beef', 'coffee'): 37, ('domestic eggs', 'frankfurter'): 69, ('brown bread', 'citrus fruit'): 82, ('domestic eggs', 'sausage'): 94, ('beef', 'root vegetables'): 171, ('curd', 'shopping bags'): 53, ('other vegetables', 'whole milk'): 736, ('coffee', 'shopping bags'): 92, ('newspapers', 'tropical fruit'): 116, ('coffee', 'whipped/sour cream'): 60, ('whipped/sour cream', 'yogurt'): 204, ('domestic eggs', 'pastry'): 89, ('beef', 'shopping bags'): 48, ('soda', 'whole milk'): 394, ('domestic eggs', 'soda'): 122, ('domestic eggs', 'pork'): 55, ('brown bread', 'whole milk'): 248, ('fruit/vegetable juice', 'rolls/buns'): 143, ('curd', 'napkins'): 47, ('soda', 'whipped/sour cream'): 114, ('butter', 'fruit/vegetable juice'): 79, ('citrus fruit', 'curd'): 70, ('coffee', 'napkins'): 40, ('frankfurter', 'fruit/vegetable juice'): 52, ('beef', 'napkins'): 40, ('fruit/vegetable juice', 'root vegetables'): 118, ('butter', 'frankfurter'): 48, ('frankfurter', 'margarine'): 63, ('butter', 'sausage'): 85, ('fruit/vegetable juice', 'yogurt'): 184, ('fruit/vegetable juice', 'shopping bags'): 105, ('frankfurter', 'sausage'): 99, ('canned beer', 'coffee'): 41, ('napkins', 'pork'): 51, ('sausage', 'soda'): 239, ('newspapers', 'rolls/buns'): 194, ('butter', 'pastry'): 75, ('rolls/buns', 'root vegetables'): 239, ('frankfurter', 'pastry'): 82, ('canned beer', 'yogurt'): 53, ('bottled beer', 'pip fruit'): 58, ('rolls/buns', 'shopping bags'): 192, ('bottled water', 'newspapers'): 111, ('butter', 'soda'): 87, ('butter', 'pork'): 54, ('domestic eggs', 'other vegetables'): 219, ('newspapers', 'root vegetables'): 113, ('napkins', 'tropical fruit'): 99, ('frankfurter', 'soda'): 111, ('pastry', 'pip fruit'): 105, ('pip fruit', 'pork'): 60, ('newspapers', 'yogurt'): 151, ('bottled water', 'margarine'): 101, ('bottled water', 'sausage'): 118, ('domestic eggs', 'rolls/buns'): 154, ('shopping bags', 'whole milk'): 241, ('pip fruit', 'tropical fruit'): 201, ('margarine', 'tropical fruit'): 92, ('canned beer', 'curd'): 20, ('bottled water', 'brown bread'): 81, ('butter', 'domestic eggs'): 95, ('pork', 'whole milk'): 218, ('other vegetables', 'sausage'): 265, ('citrus fruit', 'fruit/vegetable juice'): 102, ('domestic eggs', 'shopping bags'): 89, ('butter', 'other vegetables'): 197, ('domestic eggs', 'whipped/sour cream'): 98, ('brown bread', 'fruit/vegetable juice'): 82, ('beef', 'newspapers'): 63, ('napkins', 'rolls/buns'): 115, ('brown bread', 'butter'): 57, ('bottled beer', 'coffee'): 49, ('frankfurter', 'other vegetables'): 162, ('other vegetables', 'pastry'): 222, ('citrus fruit', 'frankfurter'): 64, ('citrus fruit', 'sausage'): 111, ('brown bread', 'frankfurter'): 70, ('other vegetables', 'soda'): 322, ('bottled beer', 'yogurt'): 91, ('other vegetables', 'pork'): 213, ('napkins', 'root vegetables'): 98, ('sausage', 'whole milk'): 294, ('butter', 'rolls/buns'): 132, ('citrus fruit', 'pastry'): 96, ('domestic eggs', 'napkins'): 59, ('brown bread', 'pastry'): 95, ('napkins', 'yogurt'): 121, ('coffee', 'tropical fruit'): 70, ('pip fruit', 'rolls/buns'): 137, ('margarine', 'rolls/buns'): 145, ('curd', 'pip fruit'): 77, ('napkins', 'shopping bags'): 71, ('bottled water', 'canned beer'): 79, ('butter', 'whole milk'): 271, ('citrus fruit', 'soda'): 126, ('sausage', 'whipped/sour cream'): 89, ('citrus fruit', 'pork'): 64, ('beef', 'pip fruit'): 48, ('frankfurter', 'whole milk'): 202, ('brown bread', 'soda'): 124, ('brown bread', 'pork'): 55, ('beef', 'brown bread'): 44, ('fruit/vegetable juice', 'newspapers'): 81, ('pip fruit', 'root vegetables'): 153, ('margarine', 'root vegetables'): 109, ('butter', 'shopping bags'): 49, ('butter', 'whipped/sour cream'): 100, ('bottled water', 'citrus fruit'): 133, ('tropical fruit', 'whole milk'): 416, ('bottled beer', 'curd'): 38, ('soda', 'tropical fruit'): 205, ('frankfurter', 'whipped/sour cream'): 61, ('margarine', 'yogurt'): 140, ('pip fruit', 'shopping bags'): 92, ('margarine', 'shopping bags'): 56, ('canned beer', 'newspapers'): 49, ('brown bread', 'tropical fruit'): 105, ('tropical fruit', 'whipped/sour cream'): 136, ('canned beer', 'margarine'): 30, ('butter', 'napkins'): 49, ('root vegetables', 'yogurt'): 254, ('bottled water', 'whole milk'): 338, ('fruit/vegetable juice', 'pip fruit'): 94, ('coffee', 'rolls/buns'): 108, ('citrus fruit', 'domestic eggs'): 102, ('brown bread', 'domestic eggs'): 67, ('citrus fruit', 'other vegetables'): 284, ('brown bread', 'other vegetables'): 184, ('other vegetables', 'rolls/buns'): 419, ('canned beer', 'pip fruit'): 32, ('coffee', 'root vegetables'): 72, ('curd', 'yogurt'): 170, ('beef', 'citrus fruit'): 83, ('coffee', 'yogurt'): 96, ('pork', 'sausage'): 64, ('beef', 'yogurt'): 115, ('newspapers', 'pip fruit'): 66, ('shopping bags', 'soda'): 242, ('brown bread', 'rolls/buns'): 124, ('other vegetables', 'shopping bags'): 228, ('other vegetables', 'whipped/sour cream'): 284, ('citrus fruit', 'whole milk'): 300, ('brown bread', 'root vegetables'): 100, ('pork', 'soda'): 117, ('whipped/sour cream', 'whole milk'): 317, ('bottled beer', 'newspapers'): 49, ('citrus fruit', 'whipped/sour cream'): 107, ('brown bread', 'shopping bags'): 91, ('brown bread', 'whipped/sour cream'): 46, ('coffee', 'curd'): 32, ('domestic eggs', 'tropical fruit'): 112, ('beef', 'curd'): 46, ('napkins', 'newspapers'): 61, ('bottled beer', 'margarine'): 60, ('bottled beer', 'frankfurter'): 53, ('bottled beer', 'sausage'): 77, ('canned beer', 'citrus fruit'): 42, ('citrus fruit', 'napkins'): 75, ('pastry', 'sausage'): 123, ('rolls/buns', 'yogurt'): 338, ('brown bread', 'napkins'): 47, ('margarine', 'newspapers'): 70, ('bottled beer', 'brown bread'): 51, ('whole milk', 'yogurt'): 551, ('bottled water', 'fruit/vegetable juice'): 140, ('frankfurter', 'pork'): 58, ('bottled water', 'butter'): 88, ('napkins', 'pip fruit'): 66, ('sausage', 'tropical fruit'): 137, ('pastry', 'soda'): 207, ('pastry', 'pork'): 62, ('bottled water', 'frankfurter'): 72, ('canned beer', 'whole milk'): 87, ('butter', 'tropical fruit'): 98, ('frankfurter', 'tropical fruit'): 93, ('bottled water', 'pastry'): 88, ('pork', 'rolls/buns'): 111, ('margarine', 'pip fruit'): 84, ('domestic eggs', 'root vegetables'): 141, ('shopping bags', 'whipped/sour cream'): 78, ('bottled water', 'soda'): 285, ('bottled water', 'pork'): 73, ('root vegetables', 'sausage'): 147, ('curd', 'newspapers'): 56, ('domestic eggs', 'yogurt'): 141, ('bottled beer', 'canned beer'): 26, ('coffee', 'newspapers'): 45, ('curd', 'fruit/vegetable juice'): 48, ('pork', 'shopping bags'): 63, ('pork', 'whipped/sour cream'): 81, ('beef', 'fruit/vegetable juice'): 50, ('curd', 'margarine'): 62, ('beef', 'butter'): 57, ('bottled beer', 'citrus fruit'): 60, ('coffee', 'margarine'): 46, ('curd', 'frankfurter'): 43, ('curd', 'sausage'): 75, ('beef', 'margarine'): 61, ('beef', 'frankfurter'): 47, ('beef', 'sausage'): 55, ('frankfurter', 'rolls/buns'): 189, ('curd', 'pastry'): 74, ('butter', 'coffee'): 47, ('coffee', 'pip fruit'): 68, ('sausage', 'shopping bags'): 154, ('beef', 'pastry'): 62, ('bottled water', 'domestic eggs'): 90, ('butter', 'root vegetables'): 127, ('curd', 'soda'): 80, ('other vegetables', 'tropical fruit'): 353, ('bottled beer', 'whole milk'): 201, ('bottled water', 'other vegetables'): 244, ('frankfurter', 'root vegetables'): 100, ('butter', 'yogurt'): 144, ('beef', 'soda'): 80, ('pastry', 'whole milk'): 327, ('frankfurter', 'shopping bags'): 81, ('pip fruit', 'yogurt'): 177, ('citrus fruit', 'tropical fruit'): 196, ('fruit/vegetable juice', 'margarine'): 61, ('fruit/vegetable juice', 'sausage'): 99, ('pastry', 'shopping bags'): 117, ('bottled water', 'rolls/buns'): 238, ('brown bread', 'pip fruit'): 75, ('pastry', 'whipped/sour cream'): 74, ('canned beer', 'fruit/vegetable juice'): 39, ('fruit/vegetable juice', 'pastry'): 84, ('canned beer', 'frankfurter'): 28, ('bottled water', 'root vegetables'): 154, ('beef', 'bottled water'): 61, ('frankfurter', 'napkins'): 39, ('canned beer', 'sausage'): 62, ('butter', 'curd'): 67, ('rolls/buns', 'sausage'): 301, ('curd', 'domestic eggs'): 64, ('fruit/vegetable juice', 'soda'): 181, ('beef', 'canned beer'): 21, ('bottled water', 'shopping bags'): 108, ('bottled water', 'whipped/sour cream'): 86, ('beef', 'domestic eggs'): 59, ('canned beer', 'pastry'): 44, ('newspapers', 'sausage'): 79, ('beef', 'other vegetables'): 194, ('root vegetables', 'whole milk'): 481, ('canned beer', 'soda'): 136, ('canned beer', 'pork'): 29, ('rolls/buns', 'soda'): 377, ('other vegetables', 'root vegetables'): 466, ('newspapers', 'pastry'): 83, ('citrus fruit', 'rolls/buns'): 165, ('domestic eggs', 'newspapers'): 68, ('other vegetables', 'yogurt'): 427, ('bottled water', 'napkins'): 85, ('citrus fruit', 'coffee'): 63, ('newspapers', 'soda'): 144, ('newspapers', 'pork'): 65, ('brown bread', 'coffee'): 37, ('citrus fruit', 'root vegetables'): 174, ('curd', 'whole milk'): 257, ('domestic eggs', 'margarine'): 82, ('soda', 'yogurt'): 269, ('beef', 'whole milk'): 209, ('shopping bags', 'tropical fruit'): 133, ('citrus fruit', 'yogurt'): 213, ('citrus fruit', 'shopping bags'): 96, ('brown bread', 'yogurt'): 143, ('fruit/vegetable juice', 'other vegetables'): 207, ('bottled beer', 'fruit/vegetable juice'): 69, ('curd', 'whipped/sour cream'): 103, ('bottled beer', 'butter'): 57, ('domestic eggs', 'pip fruit'): 85, ('beef', 'whipped/sour cream'): 66, ('canned beer', 'domestic eggs'): 35, ('pork', 'tropical fruit'): 84}\n",
      "378\n"
     ]
    }
   ],
   "source": [
    "frequent_itemset_2={}\n",
    "# res = [list([x, y]) for idx, x in enumerate(frequent_itemset) for y in frequent_itemset[idx + 1: ]]\n",
    "# print(res)\n",
    "for elem in res:\n",
    "    count=0\n",
    "    for j in range(0,len(groceries)):\n",
    "        if(set(elem).issubset(set(groceries[j]))):\n",
    "\n",
    "            count+=1\n",
    "        else:\n",
    "            j+=1\n",
    "    frequent_itemset_2.update({elem: count})\n",
    "            \n",
    "print(frequent_itemset_2)\n",
    "print(len(frequent_itemset_2))\n",
    "    "
   ]
  },
  {
   "cell_type": "code",
   "execution_count": 8,
   "id": "c09ceede",
   "metadata": {},
   "outputs": [
    {
     "name": "stdout",
     "output_type": "stream",
     "text": [
      "frequent itemset 2:\n",
      "{('rolls/buns', 'whole milk'): 557, ('other vegetables', 'whole milk'): 736, ('whole milk', 'yogurt'): 551}\n",
      "3\n"
     ]
    }
   ],
   "source": [
    "print(\"frequent itemset 2:\")\n",
    "# support = 120\n",
    "frequent_itemset2_after_pruning = {}\n",
    "for key in frequent_itemset_2:\n",
    "    if frequent_itemset_2[key] > support:\n",
    "        frequent_itemset2_after_pruning[key] = frequent_itemset_2[key]\n",
    "        \n",
    "print(frequent_itemset2_after_pruning)\n",
    "print(len(frequent_itemset2_after_pruning))"
   ]
  },
  {
   "cell_type": "code",
   "execution_count": 9,
   "id": "e64b31bf",
   "metadata": {},
   "outputs": [
    {
     "name": "stdout",
     "output_type": "stream",
     "text": [
      "dict_keys([('rolls/buns', 'whole milk'), ('other vegetables', 'whole milk'), ('whole milk', 'yogurt')])\n",
      "['citrus fruit', 'margarine', 'tropical fruit', 'yogurt', 'coffee', 'whole milk', 'pip fruit', 'other vegetables', 'butter', 'rolls/buns', 'bottled beer', 'bottled water', 'curd', 'beef', 'frankfurter', 'soda', 'fruit/vegetable juice', 'newspapers', 'pastry', 'root vegetables', 'canned beer', 'sausage', 'brown bread', 'shopping bags', 'napkins', 'pork', 'whipped/sour cream', 'domestic eggs']\n",
      "[['rolls/buns', 'whole milk'], ['other vegetables', 'whole milk'], ['whole milk', 'yogurt']]\n"
     ]
    }
   ],
   "source": [
    "frequent_itemset_2_list=[]\n",
    "print(frequent_itemset2_after_pruning.keys())\n",
    "for i in frequent_itemset2_after_pruning.keys():\n",
    "    frequent_itemset_2_list.append(list(i))\n",
    "print(frequent_itemset_1_list)\n",
    "print(frequent_itemset_2_list)"
   ]
  },
  {
   "cell_type": "markdown",
   "id": "cf98cc09",
   "metadata": {},
   "source": [
    "##### Implementing F1*Fk-1 method"
   ]
  },
  {
   "cell_type": "code",
   "execution_count": 10,
   "id": "e4f4dc15",
   "metadata": {},
   "outputs": [
    {
     "name": "stdout",
     "output_type": "stream",
     "text": [
      "frequent itemset 3:\n",
      "Redefining support\n",
      "{('rolls/buns', 'whole milk', 'yogurt'): 153, ('other vegetables', 'tropical fruit', 'whole milk'): 168, ('other vegetables', 'whole milk', 'yogurt'): 219, ('other vegetables', 'root vegetables', 'whole milk'): 228, ('other vegetables', 'rolls/buns', 'whole milk'): 176}\n",
      "Length of candidate sets 3 before pruning: 75\n",
      "Length of frequent itemset 3 after pruning: 5\n"
     ]
    }
   ],
   "source": [
    "res=[]\n",
    "frequent_itemset_3={}\n",
    "for i in frequent_itemset_2_list:\n",
    "    for j in frequent_itemset_1_list:\n",
    "        if j not in i:\n",
    "            res.append(tuple(i+[j]))\n",
    "            \n",
    "res=set([ tuple(sorted(i)) for i in res])\n",
    "for elem in res:\n",
    "    count=0\n",
    "    for j in range(0,len(groceries)):\n",
    "        if(set(elem).issubset(set(groceries[j]))):\n",
    "\n",
    "            count+=1\n",
    "        else:\n",
    "            j+=1\n",
    "    frequent_itemset_3.update({elem: count})\n",
    "        \n",
    "print(\"frequent itemset 3:\")\n",
    "frequent_itemset3_after_pruning = {}\n",
    "print(\"Redefining support\")\n",
    "support=150\n",
    "for key in frequent_itemset_3:\n",
    "    if frequent_itemset_3[key] > support:\n",
    "        frequent_itemset3_after_pruning[key] = frequent_itemset_3[key]\n",
    "        \n",
    "print(frequent_itemset3_after_pruning)\n",
    "print(\"Length of candidate sets 3 before pruning:\",len(frequent_itemset_3))\n",
    "print(\"Length of frequent itemset 3 after pruning:\",len(frequent_itemset3_after_pruning))"
   ]
  },
  {
   "cell_type": "markdown",
   "id": "b02b71f8",
   "metadata": {},
   "source": [
    "##### Implementing Fk-1*Fk-1 method"
   ]
  },
  {
   "cell_type": "code",
   "execution_count": 12,
   "id": "7ff68b06",
   "metadata": {},
   "outputs": [
    {
     "name": "stdout",
     "output_type": "stream",
     "text": [
      "[('other vegetables', 'whole milk'), ('whole milk', 'yogurt'), ('rolls/buns', 'whole milk')]\n",
      "frequent itemset 3: {('whole milk', 'other vegetables', 'rolls/buns'): 176, ('other vegetables', 'whole milk', 'rolls/buns'): 176}\n",
      "Redefining support\n",
      "{('whole milk', 'other vegetables', 'rolls/buns'): 176, ('other vegetables', 'whole milk', 'rolls/buns'): 176}\n",
      "Length of candidate sets 3 before pruning: 2\n",
      "Length of frequent itemset 3 after pruning: 2\n"
     ]
    }
   ],
   "source": [
    "res=[]\n",
    "for i in frequent_itemset2_after_pruning.keys():\n",
    "    res.append(i)\n",
    "res=list(set([ tuple(sorted(i)) for i in res]))\n",
    "print(res)\n",
    "candidate_set_3=[]\n",
    "for i in (0,len(res)-1): \n",
    "    for j in (0,len(res)-1):\n",
    "        \n",
    "        if (str(res[i][0])==str(res[j][0])) or (str(res[i][1])==str(res[j][1])) or (str(res[i][0])==str(res[j][1])) or (str(res[i][1])==str(res[j][0])) :\n",
    "            if len(set(res[i]+res[j]))>=3:\n",
    "                candidate_set_3.append(tuple(set(res[i]+res[j])))\n",
    "    \n",
    "\n",
    "frequent_itemset_3_new={}\n",
    "\n",
    "            \n",
    "for elem in candidate_set_3:\n",
    "    count=0\n",
    "    for j in range(0,len(groceries)):\n",
    "        if(set(elem).issubset(set(groceries[j]))):\n",
    "\n",
    "            count+=1\n",
    "        else:\n",
    "            j+=1\n",
    "    frequent_itemset_3_new.update({elem: count})\n",
    "        \n",
    "print(\"frequent itemset 3:\",frequent_itemset_3_new)\n",
    "frequent_itemset3_after_pruning_new = {}\n",
    "print(\"Redefining support\")\n",
    "support=150\n",
    "for key in frequent_itemset_3_new:\n",
    "    if frequent_itemset_3_new[key] > support:\n",
    "        frequent_itemset3_after_pruning_new[key] = frequent_itemset_3_new[key]\n",
    "        \n",
    "print(frequent_itemset3_after_pruning_new)\n",
    "print(\"Length of candidate sets 3 before pruning:\",len(frequent_itemset_3_new))\n",
    "print(\"Length of frequent itemset 3 after pruning:\",len(frequent_itemset3_after_pruning_new))"
   ]
  },
  {
   "cell_type": "code",
   "execution_count": null,
   "id": "185694e8",
   "metadata": {},
   "outputs": [],
   "source": []
  },
  {
   "cell_type": "code",
   "execution_count": null,
   "id": "bb10133f",
   "metadata": {},
   "outputs": [],
   "source": []
  }
 ],
 "metadata": {
  "kernelspec": {
   "display_name": "Python 3 (ipykernel)",
   "language": "python",
   "name": "python3"
  },
  "language_info": {
   "codemirror_mode": {
    "name": "ipython",
    "version": 3
   },
   "file_extension": ".py",
   "mimetype": "text/x-python",
   "name": "python",
   "nbconvert_exporter": "python",
   "pygments_lexer": "ipython3",
   "version": "3.9.7"
  }
 },
 "nbformat": 4,
 "nbformat_minor": 5
}
