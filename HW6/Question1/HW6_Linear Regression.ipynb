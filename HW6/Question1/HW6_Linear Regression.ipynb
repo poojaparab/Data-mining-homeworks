{
 "cells": [
  {
   "cell_type": "markdown",
   "id": "47d6f4e6",
   "metadata": {},
   "source": [
    "### Importing dataset and required libraries\n"
   ]
  },
  {
   "cell_type": "code",
   "execution_count": 1,
   "id": "b76c63bd",
   "metadata": {},
   "outputs": [],
   "source": [
    "import pandas as pd\n",
    "from sklearn.linear_model import LinearRegression\n",
    "from sklearn import preprocessing\n",
    "import numpy as np"
   ]
  },
  {
   "cell_type": "code",
   "execution_count": 2,
   "id": "fe24ef8f",
   "metadata": {},
   "outputs": [],
   "source": [
    "df = pd.read_csv(\"archive/auto-mpg.csv\")"
   ]
  },
  {
   "cell_type": "code",
   "execution_count": 3,
   "id": "53e64c3f",
   "metadata": {},
   "outputs": [
    {
     "data": {
      "text/html": [
       "<div>\n",
       "<style scoped>\n",
       "    .dataframe tbody tr th:only-of-type {\n",
       "        vertical-align: middle;\n",
       "    }\n",
       "\n",
       "    .dataframe tbody tr th {\n",
       "        vertical-align: top;\n",
       "    }\n",
       "\n",
       "    .dataframe thead th {\n",
       "        text-align: right;\n",
       "    }\n",
       "</style>\n",
       "<table border=\"1\" class=\"dataframe\">\n",
       "  <thead>\n",
       "    <tr style=\"text-align: right;\">\n",
       "      <th></th>\n",
       "      <th>mpg</th>\n",
       "      <th>cylinders</th>\n",
       "      <th>displacement</th>\n",
       "      <th>horsepower</th>\n",
       "      <th>weight</th>\n",
       "      <th>acceleration</th>\n",
       "      <th>model year</th>\n",
       "      <th>origin</th>\n",
       "      <th>car name</th>\n",
       "    </tr>\n",
       "  </thead>\n",
       "  <tbody>\n",
       "    <tr>\n",
       "      <th>0</th>\n",
       "      <td>18.0</td>\n",
       "      <td>8</td>\n",
       "      <td>307.0</td>\n",
       "      <td>130</td>\n",
       "      <td>3504</td>\n",
       "      <td>12.0</td>\n",
       "      <td>70</td>\n",
       "      <td>1</td>\n",
       "      <td>chevrolet chevelle malibu</td>\n",
       "    </tr>\n",
       "    <tr>\n",
       "      <th>1</th>\n",
       "      <td>15.0</td>\n",
       "      <td>8</td>\n",
       "      <td>350.0</td>\n",
       "      <td>165</td>\n",
       "      <td>3693</td>\n",
       "      <td>11.5</td>\n",
       "      <td>70</td>\n",
       "      <td>1</td>\n",
       "      <td>buick skylark 320</td>\n",
       "    </tr>\n",
       "    <tr>\n",
       "      <th>2</th>\n",
       "      <td>18.0</td>\n",
       "      <td>8</td>\n",
       "      <td>318.0</td>\n",
       "      <td>150</td>\n",
       "      <td>3436</td>\n",
       "      <td>11.0</td>\n",
       "      <td>70</td>\n",
       "      <td>1</td>\n",
       "      <td>plymouth satellite</td>\n",
       "    </tr>\n",
       "    <tr>\n",
       "      <th>3</th>\n",
       "      <td>16.0</td>\n",
       "      <td>8</td>\n",
       "      <td>304.0</td>\n",
       "      <td>150</td>\n",
       "      <td>3433</td>\n",
       "      <td>12.0</td>\n",
       "      <td>70</td>\n",
       "      <td>1</td>\n",
       "      <td>amc rebel sst</td>\n",
       "    </tr>\n",
       "    <tr>\n",
       "      <th>4</th>\n",
       "      <td>17.0</td>\n",
       "      <td>8</td>\n",
       "      <td>302.0</td>\n",
       "      <td>140</td>\n",
       "      <td>3449</td>\n",
       "      <td>10.5</td>\n",
       "      <td>70</td>\n",
       "      <td>1</td>\n",
       "      <td>ford torino</td>\n",
       "    </tr>\n",
       "  </tbody>\n",
       "</table>\n",
       "</div>"
      ],
      "text/plain": [
       "    mpg  cylinders  displacement horsepower  weight  acceleration  model year  \\\n",
       "0  18.0          8         307.0        130    3504          12.0          70   \n",
       "1  15.0          8         350.0        165    3693          11.5          70   \n",
       "2  18.0          8         318.0        150    3436          11.0          70   \n",
       "3  16.0          8         304.0        150    3433          12.0          70   \n",
       "4  17.0          8         302.0        140    3449          10.5          70   \n",
       "\n",
       "   origin                   car name  \n",
       "0       1  chevrolet chevelle malibu  \n",
       "1       1          buick skylark 320  \n",
       "2       1         plymouth satellite  \n",
       "3       1              amc rebel sst  \n",
       "4       1                ford torino  "
      ]
     },
     "execution_count": 3,
     "metadata": {},
     "output_type": "execute_result"
    }
   ],
   "source": [
    "df.head()"
   ]
  },
  {
   "cell_type": "code",
   "execution_count": 4,
   "id": "03064e69",
   "metadata": {},
   "outputs": [
    {
     "name": "stdout",
     "output_type": "stream",
     "text": [
      "<class 'pandas.core.frame.DataFrame'>\n",
      "RangeIndex: 398 entries, 0 to 397\n",
      "Data columns (total 9 columns):\n",
      " #   Column        Non-Null Count  Dtype  \n",
      "---  ------        --------------  -----  \n",
      " 0   mpg           398 non-null    float64\n",
      " 1   cylinders     398 non-null    int64  \n",
      " 2   displacement  398 non-null    float64\n",
      " 3   horsepower    398 non-null    object \n",
      " 4   weight        398 non-null    int64  \n",
      " 5   acceleration  398 non-null    float64\n",
      " 6   model year    398 non-null    int64  \n",
      " 7   origin        398 non-null    int64  \n",
      " 8   car name      398 non-null    object \n",
      "dtypes: float64(3), int64(4), object(2)\n",
      "memory usage: 28.1+ KB\n"
     ]
    }
   ],
   "source": [
    "df.isna().sum()\n",
    "df.info()"
   ]
  },
  {
   "cell_type": "code",
   "execution_count": 5,
   "id": "a7a750e5",
   "metadata": {},
   "outputs": [
    {
     "name": "stdout",
     "output_type": "stream",
     "text": [
      "<class 'pandas.core.frame.DataFrame'>\n",
      "Int64Index: 392 entries, 0 to 397\n",
      "Data columns (total 9 columns):\n",
      " #   Column        Non-Null Count  Dtype  \n",
      "---  ------        --------------  -----  \n",
      " 0   mpg           392 non-null    float64\n",
      " 1   cylinders     392 non-null    int64  \n",
      " 2   displacement  392 non-null    float64\n",
      " 3   horsepower    392 non-null    float64\n",
      " 4   weight        392 non-null    int64  \n",
      " 5   acceleration  392 non-null    float64\n",
      " 6   model year    392 non-null    int64  \n",
      " 7   origin        392 non-null    int64  \n",
      " 8   car name      392 non-null    object \n",
      "dtypes: float64(4), int64(4), object(1)\n",
      "memory usage: 30.6+ KB\n"
     ]
    }
   ],
   "source": [
    "df['horsepower'] = df['horsepower'].replace(\"?\",np.nan)\n",
    "df[\"horsepower\"] = df[\"horsepower\"].astype(\"float64\")\n",
    "df = df.dropna()\n",
    "df.info()"
   ]
  },
  {
   "cell_type": "markdown",
   "id": "25b57184",
   "metadata": {},
   "source": [
    "### L2 Normalization"
   ]
  },
  {
   "cell_type": "code",
   "execution_count": 6,
   "id": "fa46e4c8",
   "metadata": {},
   "outputs": [
    {
     "name": "stdout",
     "output_type": "stream",
     "text": [
      "     cylinders  displacement  horsepower    weight  acceleration  model year  \\\n",
      "0     0.002272      0.087201    0.036926  0.995286      0.003409    0.019883   \n",
      "1     0.002154      0.094240    0.044427  0.994364      0.003096    0.018848   \n",
      "2     0.002316      0.092048    0.043419  0.994580      0.003184    0.020262   \n",
      "3     0.002319      0.088104    0.043472  0.994936      0.003478    0.020287   \n",
      "4     0.002308      0.087137    0.040395  0.995153      0.003030    0.020197   \n",
      "..         ...           ...         ...       ...           ...         ...   \n",
      "387   0.001431      0.050068    0.030756  0.997778      0.005579    0.029325   \n",
      "388   0.001874      0.045433    0.024356  0.997650      0.011522    0.038407   \n",
      "389   0.001737      0.058639    0.036487  0.996865      0.005039    0.035618   \n",
      "390   0.001521      0.045620    0.030033  0.997938      0.007071    0.031174   \n",
      "391   0.001468      0.043665    0.030088  0.998048      0.007118    0.030088   \n",
      "\n",
      "       origin  \n",
      "0    0.000284  \n",
      "1    0.000269  \n",
      "2    0.000289  \n",
      "3    0.000290  \n",
      "4    0.000289  \n",
      "..        ...  \n",
      "387  0.000358  \n",
      "388  0.000937  \n",
      "389  0.000434  \n",
      "390  0.000380  \n",
      "391  0.000367  \n",
      "\n",
      "[392 rows x 7 columns]\n",
      "*****************************************\n",
      "0      0.005113\n",
      "1      0.004039\n",
      "2      0.005210\n",
      "3      0.004637\n",
      "4      0.004905\n",
      "         ...   \n",
      "387    0.009656\n",
      "388    0.020609\n",
      "389    0.013900\n",
      "390    0.010645\n",
      "391    0.011375\n",
      "Name: mpg, Length: 392, dtype: float64\n"
     ]
    }
   ],
   "source": [
    "df = df.drop(['car name'],axis =1)\n",
    "df_scaled=preprocessing.normalize(df, norm='l2')\n",
    "df_scaled = pd.DataFrame(df_scaled, columns=df.columns)\n",
    "features = df_scaled.iloc[:,1:]\n",
    "response = df_scaled.iloc[:,0]\n",
    "print(features)\n",
    "print('*****************************************')\n",
    "print(response)"
   ]
  },
  {
   "cell_type": "markdown",
   "id": "e781d44c",
   "metadata": {},
   "source": [
    "### splitting the data for training and testing"
   ]
  },
  {
   "cell_type": "code",
   "execution_count": 7,
   "id": "c7507ef4",
   "metadata": {},
   "outputs": [],
   "source": [
    "from sklearn.model_selection import train_test_split,GridSearchCV"
   ]
  },
  {
   "cell_type": "code",
   "execution_count": 8,
   "id": "4978b47d",
   "metadata": {},
   "outputs": [
    {
     "name": "stdout",
     "output_type": "stream",
     "text": [
      "     cylinders  displacement  horsepower    weight  acceleration  model year  \\\n",
      "180   0.001620      0.043334    0.034829  0.997893      0.006277    0.030779   \n",
      "119   0.001392      0.042105    0.038973  0.997992      0.005394    0.025402   \n",
      "307   0.001861      0.045591    0.035357  0.997428      0.006839    0.037217   \n",
      "219   0.002054      0.078296    0.037222  0.996022      0.003209    0.019766   \n",
      "139   0.001798      0.044061    0.037317  0.997662      0.007418    0.033270   \n",
      "..         ...           ...         ...       ...           ...         ...   \n",
      "71    0.002047      0.077800    0.038388  0.996045      0.003199    0.018426   \n",
      "106   0.002142      0.082814    0.035695  0.995547      0.005354    0.026058   \n",
      "270   0.001398      0.052770    0.029705  0.997738      0.006151    0.027259   \n",
      "348   0.001677      0.041098    0.027259  0.998087      0.008681    0.033969   \n",
      "102   0.001595      0.079748    0.029906  0.996252      0.002791    0.014554   \n",
      "\n",
      "       origin  \n",
      "180  0.000810  \n",
      "119  0.000696  \n",
      "307  0.000930  \n",
      "219  0.000257  \n",
      "139  0.000899  \n",
      "..        ...  \n",
      "71   0.000256  \n",
      "106  0.000357  \n",
      "270  0.000349  \n",
      "348  0.000419  \n",
      "102  0.000199  \n",
      "\n",
      "[261 rows x 7 columns]\n"
     ]
    }
   ],
   "source": [
    "X_train, X_test, y_train, y_test = train_test_split( features,response, test_size=1/3, random_state=42)\n",
    "print(X_train)"
   ]
  },
  {
   "cell_type": "markdown",
   "id": "866f122e",
   "metadata": {},
   "source": [
    "### Implement Linear Regression"
   ]
  },
  {
   "cell_type": "code",
   "execution_count": 9,
   "id": "51346983",
   "metadata": {},
   "outputs": [
    {
     "name": "stdout",
     "output_type": "stream",
     "text": [
      "linear regression mse:1.867365317882146e-06\n",
      "              Coefficients\n",
      "cylinders         0.839891\n",
      "displacement     -0.117330\n",
      "horsepower       -0.171236\n",
      "weight           -1.621712\n",
      "acceleration     -0.278295\n",
      "model year        0.569352\n",
      "origin            0.823610\n"
     ]
    }
   ],
   "source": [
    "from sklearn.linear_model import LinearRegression, RidgeCV, LassoCV, Ridge, Lasso\n",
    "from sklearn.metrics import mean_squared_error\n",
    "model=LinearRegression()\n",
    "model.fit(X_train,y_train)\n",
    "y_pred = model.predict(X_test)\n",
    "error = mean_squared_error(y_test, y_pred)\n",
    "print(\"linear regression mse:{}\".format(error))\n",
    "coefficients_cols = pd.DataFrame(model.coef_, X_train.columns, columns=['Coefficients'])\n",
    "print(coefficients_cols)"
   ]
  },
  {
   "cell_type": "markdown",
   "id": "9267e39a",
   "metadata": {},
   "source": [
    "##### model year coefficient is 0.5693 and this feature contributes significant amount of linear relation for the response attributes. It is the second most significant contributor."
   ]
  },
  {
   "cell_type": "markdown",
   "id": "d0b4f60a",
   "metadata": {},
   "source": [
    "### Ridge Regression"
   ]
  },
  {
   "cell_type": "markdown",
   "id": "64dac999",
   "metadata": {},
   "source": [
    "#### Grid search cv for figuring out value of alpha"
   ]
  },
  {
   "cell_type": "code",
   "execution_count": 38,
   "id": "fbd05c6b",
   "metadata": {},
   "outputs": [],
   "source": [
    "feature_count=7\n",
    "ridge =Ridge()\n",
    "alphas =  {'alpha':[0.0001,0.001,0.01,0.1,1, 10]}\n",
    "ridge_model= GridSearchCV(ridge, alphas, scoring='neg_mean_squared_error',cv=feature_count)\n"
   ]
  },
  {
   "cell_type": "code",
   "execution_count": 39,
   "id": "84a72ff3",
   "metadata": {},
   "outputs": [
    {
     "name": "stdout",
     "output_type": "stream",
     "text": [
      "Ridge regression mse:1.8668374775885816e-06\n",
      "Best alpha value:  {'alpha': 0.0001}\n"
     ]
    }
   ],
   "source": [
    "ridge_model.fit(X_train,y_train)\n",
    "y_pred = ridge_model.predict(X_test)\n",
    "error = mean_squared_error(y_test, y_pred)\n",
    "print(\"Ridge regression mse:{}\".format(error))\n",
    "print(\"Best alpha value: \",ridge_model.best_params_)\n",
    "best_ridge_model=ridge_model.best_estimator_"
   ]
  },
  {
   "cell_type": "code",
   "execution_count": 40,
   "id": "53a777ee",
   "metadata": {},
   "outputs": [
    {
     "name": "stdout",
     "output_type": "stream",
     "text": [
      "              Coefficients\n",
      "cylinders         0.055028\n",
      "displacement     -0.004863\n",
      "horsepower       -0.061296\n",
      "weight           -0.200234\n",
      "acceleration      0.038674\n",
      "model year        0.612884\n",
      "origin            0.186435\n"
     ]
    }
   ],
   "source": [
    "coefficients_cols_r = pd.DataFrame(best_ridge_model.coef_, X_train.columns, columns=['Coefficients'])\n",
    "print(coefficients_cols_r)"
   ]
  },
  {
   "cell_type": "markdown",
   "id": "7eb2653c",
   "metadata": {},
   "source": [
    "### Lasso Regression"
   ]
  },
  {
   "cell_type": "code",
   "execution_count": 35,
   "id": "05581af3",
   "metadata": {},
   "outputs": [],
   "source": [
    "feature_count=7\n",
    "lasso =Lasso()\n",
    "alphas =  {'alpha':[0.00000001,0.0000001, 0.0000001,0.0000001,0.000001,0.00001,0.0001,0.001,0.01,0.1,110]}\n",
    "lasso_model= GridSearchCV(lasso, alphas, scoring='neg_mean_squared_error',cv=feature_count)\n"
   ]
  },
  {
   "cell_type": "code",
   "execution_count": 36,
   "id": "cf1da209",
   "metadata": {},
   "outputs": [
    {
     "name": "stdout",
     "output_type": "stream",
     "text": [
      "Lasso regression mse:1.8817715660294576e-06\n",
      "Best alpha value:  {'alpha': 1e-07}\n"
     ]
    }
   ],
   "source": [
    "lasso_model.fit(X_train,y_train)\n",
    "y_pred = lasso_model.predict(X_test)\n",
    "error = mean_squared_error(y_test, y_pred)\n",
    "print(\"Lasso regression mse:{}\".format(error))\n",
    "print(\"Best alpha value: \",lasso_model.best_params_)\n",
    "best_lasso_model=lasso_model.best_estimator_"
   ]
  },
  {
   "cell_type": "code",
   "execution_count": 37,
   "id": "b5c9e36b",
   "metadata": {},
   "outputs": [
    {
     "name": "stdout",
     "output_type": "stream",
     "text": [
      "              Coefficients\n",
      "cylinders         0.000000\n",
      "displacement      0.009309\n",
      "horsepower       -0.049586\n",
      "weight           -0.000000\n",
      "acceleration      0.000000\n",
      "model year        0.642626\n",
      "origin            0.000000\n"
     ]
    }
   ],
   "source": [
    "coefficients_cols_l = pd.DataFrame(best_lasso_model.coef_, X_train.columns, columns=['Coefficients'])\n",
    "print(coefficients_cols_l)"
   ]
  },
  {
   "cell_type": "code",
   "execution_count": null,
   "id": "8ef7bb23",
   "metadata": {},
   "outputs": [],
   "source": []
  }
 ],
 "metadata": {
  "kernelspec": {
   "display_name": "Python 3 (ipykernel)",
   "language": "python",
   "name": "python3"
  },
  "language_info": {
   "codemirror_mode": {
    "name": "ipython",
    "version": 3
   },
   "file_extension": ".py",
   "mimetype": "text/x-python",
   "name": "python",
   "nbconvert_exporter": "python",
   "pygments_lexer": "ipython3",
   "version": "3.9.7"
  },
  "vscode": {
   "interpreter": {
    "hash": "314eca7e8c5a52c898988dc994a8cbf8b86dd53f304108f2c0b8bcb3df62645b"
   }
  }
 },
 "nbformat": 4,
 "nbformat_minor": 5
}
