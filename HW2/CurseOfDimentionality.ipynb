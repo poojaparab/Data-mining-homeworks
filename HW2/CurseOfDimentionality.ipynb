{
 "cells": [
  {
   "cell_type": "markdown",
   "id": "c906ed2c",
   "metadata": {},
   "source": [
    "## Curse Of Dimentionality On High Dimention Data\n"
   ]
  },
  {
   "cell_type": "markdown",
   "id": "379a2402",
   "metadata": {},
   "source": [
    "##### 1. Importing required libraries"
   ]
  },
  {
   "cell_type": "code",
   "execution_count": 35,
   "id": "f2ee338a",
   "metadata": {},
   "outputs": [],
   "source": [
    "import numpy as np\n",
    "import matplotlib.pyplot as plt\n",
    "import math"
   ]
  },
  {
   "cell_type": "code",
   "execution_count": 43,
   "id": "5d186947",
   "metadata": {},
   "outputs": [],
   "source": [
    "difference_matrix=[]\n",
    "final_output=[]\n",
    "for i in range(2,50,1):\n",
    "    rows=list(np.random.randint(1,100,i) for _ in range(500))\n",
    "    random_number = np.random.randint(1,100,i)\n",
    "    difference_matrix=[np.linalg.norm(random_number-i) for i in rows]\n",
    "    difference_max= max(difference_matrix)\n",
    "    difference_min= min(difference_matrix)\n",
    "    final= math.log10(difference_max-difference_min)/difference_min\n",
    "    final_output.append(final)\n",
    "    \n"
   ]
  },
  {
   "cell_type": "code",
   "execution_count": 44,
   "id": "05e2449b",
   "metadata": {},
   "outputs": [
    {
     "data": {
      "text/plain": [
       "Text(0, 0.5, 'Euclidean distant')"
      ]
     },
     "execution_count": 44,
     "metadata": {},
     "output_type": "execute_result"
    },
    {
     "data": {
      "image/png": "[encoded data removed]",
      "text/plain": [
       "<Figure size 432x288 with 1 Axes>"
      ]
     },
     "metadata": {
      "needs_background": "light"
     },
     "output_type": "display_data"
    }
   ],
   "source": [
    "plt.plot(range(2,50),final_output)\n",
    "plt.xlabel(\"number of dimentions\")\n",
    "plt.ylabel(\"Euclidean distant\")"
   ]
  },
  {
   "cell_type": "markdown",
   "id": "f7cb2992",
   "metadata": {},
   "source": [
    "Reference From internet:\n",
    "https://stackoverflow.com/questions/69247773/generating-a-curse-of-dimensionality-chart"
   ]
  },
  {
   "cell_type": "code",
   "execution_count": null,
   "id": "2a08aa93",
   "metadata": {},
   "outputs": [],
   "source": []
  }
 ],
 "metadata": {
  "kernelspec": {
   "display_name": "Python 3 (ipykernel)",
   "language": "python",
   "name": "python3"
  },
  "language_info": {
   "codemirror_mode": {
    "name": "ipython",
    "version": 3
   },
   "file_extension": ".py",
   "mimetype": "text/x-python",
   "name": "python",
   "nbconvert_exporter": "python",
   "pygments_lexer": "ipython3",
   "version": "3.9.7"
  }
 },
 "nbformat": 4,
 "nbformat_minor": 5
}
