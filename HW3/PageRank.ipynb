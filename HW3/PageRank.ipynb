{
 "cells": [
  {
   "cell_type": "code",
   "execution_count": 1,
   "id": "cbfa7d66",
   "metadata": {},
   "outputs": [],
   "source": [
    "import pandas\n",
    "import numpy as np\n",
    "import pandas\n",
    "import math"
   ]
  },
  {
   "cell_type": "code",
   "execution_count": 2,
   "id": "30b6d394",
   "metadata": {},
   "outputs": [],
   "source": [
    "transition_matrix =[[0,0.25,0,0,0,0.5],[0.5,0,0,0,0,0],[0,0.25,0,0,0.5,0.5],[0,0.25,1,0,0,0],[0.5,0,0,0.5,0,0],[0,0.25,0,0.5,0.5,0]]\n",
    "transition_matrix = pandas.DataFrame(transition_matrix)"
   ]
  },
  {
   "cell_type": "code",
   "execution_count": 3,
   "id": "a3030193",
   "metadata": {},
   "outputs": [],
   "source": [
    "def pageRank(transition_matrix, max_iterations, epsilon):\n",
    "    nodes = set()\n",
    "    for colKey in transition_matrix:\n",
    "        nodes.add(colKey)\n",
    "    for rowKey in transition_matrix.T:\n",
    "        nodes.add(rowKey)\n",
    "\n",
    "    matrix = transition_matrix.T\n",
    "    for colKey in matrix:\n",
    "        if matrix[colKey].sum() == 0.0:\n",
    "            matrix[colKey] = pandas.Series(np.ones(len(matrix[colKey])), index=matrix.index)\n",
    "    transition_matrix = matrix.T\n",
    "\n",
    "    normalize = 1.0 / float(len(nodes))\n",
    "    P_matrix =  pandas.Series({node : normalize for node in nodes})\n",
    "\n",
    "    transitionProbs = transition_matrix.div(transition_matrix.sum(axis=1), axis=0)\n",
    "\n",
    "    for iteration in range(max_iterations):\n",
    "        old = P_matrix.copy()\n",
    "        P_matrix = P_matrix.dot(transitionProbs)\n",
    "        delta = P_matrix - old\n",
    "        if math.sqrt(delta.dot(delta)) < epsilon:\n",
    "            break\n",
    "\n",
    "    return P_matrix"
   ]
  },
  {
   "cell_type": "code",
   "execution_count": 4,
   "id": "cee0a238",
   "metadata": {},
   "outputs": [
    {
     "name": "stdout",
     "output_type": "stream",
     "text": [
      "0    0.237778\n",
      "1    0.169630\n",
      "2    0.110222\n",
      "3    0.150222\n",
      "4    0.136000\n",
      "5    0.196148\n",
      "dtype: float64\n"
     ]
    }
   ],
   "source": [
    "result=pageRank(transition_matrix,3,0.05)\n",
    "print(result)"
   ]
  },
  {
   "cell_type": "markdown",
   "id": "1c69ab30",
   "metadata": {},
   "source": [
    "#### Example 1: Changing the weights of transition matrix"
   ]
  },
  {
   "cell_type": "code",
   "execution_count": 5,
   "id": "0b5b2ec0",
   "metadata": {},
   "outputs": [],
   "source": [
    "transition_matrix =[[0,0.5,0,0,0,0.5],[0.5,0,0,0,0,0],[0,0.5,0,0,0.5,0.5],[0,0,1,0,0,0],[0.5,0,0,0.5,0,0],[0,0,0,0.5,0.5,0]]\n",
    "transition_matrix = pandas.DataFrame(transition_matrix)"
   ]
  },
  {
   "cell_type": "code",
   "execution_count": 6,
   "id": "167e524e",
   "metadata": {},
   "outputs": [
    {
     "name": "stdout",
     "output_type": "stream",
     "text": [
      "0    0.243056\n",
      "1    0.159722\n",
      "2    0.138889\n",
      "3    0.152778\n",
      "4    0.145833\n",
      "5    0.159722\n",
      "dtype: float64\n"
     ]
    }
   ],
   "source": [
    "result=pageRank(transition_matrix,3,0.05)\n",
    "print(result)"
   ]
  },
  {
   "cell_type": "markdown",
   "id": "8dde1f20",
   "metadata": {},
   "source": [
    "##### As you can see the resulting matrix values are also changed after chnaging the initial distribution"
   ]
  },
  {
   "cell_type": "markdown",
   "id": "54b5e63d",
   "metadata": {},
   "source": [
    "##### Example 2: Changing weights in such way that rank should also change in resulting matrix"
   ]
  },
  {
   "cell_type": "code",
   "execution_count": 9,
   "id": "e54ebc9e",
   "metadata": {},
   "outputs": [],
   "source": [
    "transition_matrix =[[0,0.5,0,0,0,0.5],[0,0,0,0,0,0],[0,0.5,0,0,0.5,0.5],[0,0,1,0,0,0],[0,0,0,0.5,0,0],[1,0,0,0.5,0.5,0]]\n",
    "transition_matrix = pandas.DataFrame(transition_matrix)"
   ]
  },
  {
   "cell_type": "code",
   "execution_count": 10,
   "id": "1eaab1e1",
   "metadata": {},
   "outputs": [
    {
     "name": "stdout",
     "output_type": "stream",
     "text": [
      "0    0.098765\n",
      "1    0.168210\n",
      "2    0.219136\n",
      "3    0.195988\n",
      "4    0.149691\n",
      "5    0.168210\n",
      "dtype: float64\n"
     ]
    }
   ],
   "source": [
    "result=pageRank(transition_matrix,3,0.05)\n",
    "print(result)"
   ]
  },
  {
   "cell_type": "code",
   "execution_count": null,
   "id": "11037cff",
   "metadata": {},
   "outputs": [],
   "source": []
  }
 ],
 "metadata": {
  "kernelspec": {
   "display_name": "Python 3 (ipykernel)",
   "language": "python",
   "name": "python3"
  },
  "language_info": {
   "codemirror_mode": {
    "name": "ipython",
    "version": 3
   },
   "file_extension": ".py",
   "mimetype": "text/x-python",
   "name": "python",
   "nbconvert_exporter": "python",
   "pygments_lexer": "ipython3",
   "version": "3.9.7"
  }
 },
 "nbformat": 4,
 "nbformat_minor": 5
}
